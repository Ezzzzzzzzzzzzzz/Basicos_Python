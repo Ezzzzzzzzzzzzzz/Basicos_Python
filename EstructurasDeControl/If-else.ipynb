{
 "cells": [
  {
   "cell_type": "code",
   "execution_count": null,
   "metadata": {},
   "outputs": [],
   "source": [
    "# Solicita un número del usuario \n",
    "num = float(input(\"Ingresa un número\")) \n",
    "# incia estructura de control \n",
    "if num == 0: \n",
    "    result = \"El número es cero\" \n",
    "else: \n",
    "    result = \"El número es diferente de cero\" \n",
    "# muestra el resultado \n",
    "print(result)"
   ]
  }
 ],
 "metadata": {
  "language_info": {
   "name": "python"
  },
  "orig_nbformat": 4
 },
 "nbformat": 4,
 "nbformat_minor": 2
}

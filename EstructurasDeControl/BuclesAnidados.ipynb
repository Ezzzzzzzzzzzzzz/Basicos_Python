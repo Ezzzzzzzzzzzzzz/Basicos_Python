{
 "cells": [
  {
   "cell_type": "code",
   "execution_count": null,
   "metadata": {},
   "outputs": [],
   "source": [
    "MIN = 1 \n",
    "MAX = 20 \n",
    "#La instrucción end=\"\" al final del argumento de print, evita que el programa continue a la siguiente línea \n",
    "print(\" \", end=\"\") \n",
    "for i in range(MIN, MAX + 1): \n",
    "    print(\"%4d\" % i, end=\"\") \n",
    "print() \n",
    "for i in range(MIN, MAX + 1): \n",
    "    print(\"%4d\" % i, end=\"\") \n",
    "for j in range(MIN, MAX + 1): \n",
    "    print(\"%4d\" % (i * j), end=\"\") \n",
    "print()"
   ]
  }
 ],
 "metadata": {
  "kernelspec": {
   "display_name": "Python 3.9.12 ('base')",
   "language": "python",
   "name": "python3"
  },
  "language_info": {
   "name": "python",
   "version": "3.9.12"
  },
  "orig_nbformat": 4,
  "vscode": {
   "interpreter": {
    "hash": "e05d13a84c48dca7d9f214d33c6771c68a1f185eadf799d15525cd606a1866fc"
   }
  }
 },
 "nbformat": 4,
 "nbformat_minor": 2
}

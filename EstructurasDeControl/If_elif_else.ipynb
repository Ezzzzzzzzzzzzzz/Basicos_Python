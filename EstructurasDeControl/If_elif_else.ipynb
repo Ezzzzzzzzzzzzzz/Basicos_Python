{
 "cells": [
  {
   "cell_type": "code",
   "execution_count": null,
   "metadata": {},
   "outputs": [],
   "source": [
    "# Lee un número  \n",
    "num = float(input(\"Ingresa un número: \")) \n",
    "# El resultado se almacena en una variable llamada result \n",
    "if num > 0: \n",
    "    result = \"El número es positivo\" \n",
    "elif num < 0: \n",
    "    result = \"El número es negativo\" \n",
    "else: \n",
    "    result = \"El número es cero\" \n",
    "print(result)"
   ]
  }
 ],
 "metadata": {
  "kernelspec": {
   "display_name": "Python 3.9.12 ('base')",
   "language": "python",
   "name": "python3"
  },
  "language_info": {
   "name": "python",
   "version": "3.9.12"
  },
  "orig_nbformat": 4,
  "vscode": {
   "interpreter": {
    "hash": "e05d13a84c48dca7d9f214d33c6771c68a1f185eadf799d15525cd606a1866fc"
   }
  }
 },
 "nbformat": 4,
 "nbformat_minor": 2
}

{
 "cells": [
  {
   "cell_type": "code",
   "execution_count": null,
   "metadata": {},
   "outputs": [],
   "source": [
    "# Lee un número  \n",
    "num = float(input(\"Ingresa un número: \")) \n",
    "# El resultado se almacena en una variable llamada result \n",
    "if num > 0: \n",
    "    result = \"El número es positivo\" \n",
    "elif num < 0: \n",
    "    result = \"El número es negativo\" \n",
    "else: \n",
    "    result = \"El número es cero\" \n",
    "print(result)"
   ]
  }
 ],
 "metadata": {
  "language_info": {
   "name": "python"
  },
  "orig_nbformat": 4
 },
 "nbformat": 4,
 "nbformat_minor": 2
}

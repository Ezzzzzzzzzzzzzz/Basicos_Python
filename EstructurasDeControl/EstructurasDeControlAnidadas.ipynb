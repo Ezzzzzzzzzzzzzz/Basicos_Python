{
 "cells": [
  {
   "cell_type": "code",
   "execution_count": null,
   "metadata": {},
   "outputs": [],
   "source": [
    "# Solicita un número \n",
    "num = float(input(\"Ingresa un número: \")) \n",
    "# condición uno \n",
    "if num > 0: \n",
    "    adjective = \" \" \n",
    "    if num >= 1000000: \n",
    "        adjective = \" muy grande \" \n",
    "    elif num >= 1000: \n",
    "        adjective = \" grande \" \n",
    "    # El resultado es una cadena con el adjetivo y el tipo de número \n",
    "    result = \"Es realmente un número\" + adjective + \"y positivo\" \n",
    "elif num < 0: \n",
    "    result = \"Es un número negativo\" \n",
    "else: \n",
    "    result = \"Este número es cero\" \n",
    "# Imprime el resultado \n",
    "print(result) "
   ]
  }
 ],
 "metadata": {
  "kernelspec": {
   "display_name": "Python 3.9.12 ('base')",
   "language": "python",
   "name": "python3"
  },
  "language_info": {
   "name": "python",
   "version": "3.9.12"
  },
  "orig_nbformat": 4,
  "vscode": {
   "interpreter": {
    "hash": "e05d13a84c48dca7d9f214d33c6771c68a1f185eadf799d15525cd606a1866fc"
   }
  }
 },
 "nbformat": 4,
 "nbformat_minor": 2
}

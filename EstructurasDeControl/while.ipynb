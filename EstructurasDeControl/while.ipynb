{
 "cells": [
  {
   "cell_type": "code",
   "execution_count": null,
   "metadata": {},
   "outputs": [],
   "source": [
    "line = input(\"Ingresa 8 bits (ceros y unos) \") \n",
    "# Inicia el bucle hasta encontrar un espacio en blanco \n",
    "while line != \"\": \n",
    "    # Condición que asegura que tiene exactamente 8 ceros y unos  \n",
    "    if line.count(\"0\") + line.count(\"1\") != 8 or len(line) != 8: \n",
    "        # Si es diferente de ocho, intenta de nuevo \n",
    "        print(\"no son ocho bits\") \n",
    "    else: \n",
    "        # Cuenta los unos \n",
    "        ones = line.count(\"1\") \n",
    "        # Este conteo regresa el número de veces que aparece el uno en la cadena de ocho bits \n",
    "        # despliega el bit de paridad \n",
    "        if ones % 2 == 0: \n",
    "            print(\"El bit de paridad debe de ser 0.\") \n",
    "        else: \n",
    "            print(\"El bit de paridad debe de ser 1.\") \n",
    "    # Lee la siguiente cadena de bits \n",
    "    line = input(\"Enter 8 bits: \")"
   ]
  }
 ],
 "metadata": {
  "kernelspec": {
   "display_name": "Python 3.9.12 ('base')",
   "language": "python",
   "name": "python3"
  },
  "language_info": {
   "name": "python",
   "version": "3.9.12"
  },
  "orig_nbformat": 4,
  "vscode": {
   "interpreter": {
    "hash": "e05d13a84c48dca7d9f214d33c6771c68a1f185eadf799d15525cd606a1866fc"
   }
  }
 },
 "nbformat": 4,
 "nbformat_minor": 2
}

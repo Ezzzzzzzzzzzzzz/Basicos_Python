{
 "cells": [
  {
   "cell_type": "code",
   "execution_count": null,
   "metadata": {},
   "outputs": [],
   "source": [
    "# El usuario ingresa el límite de datos recopilados \n",
    "limit = int(input(\"Ingresa un número mayor a 3\")) \n",
    "# Muestra los números positivos en múltiplos de 3 \n",
    "print(\"los multiplos de tres\", limit, \"son:\") \n",
    "for i in range(3, limit + 1, 3): \n",
    "    print(i)"
   ]
  }
 ],
 "metadata": {
  "language_info": {
   "name": "python"
  },
  "orig_nbformat": 4
 },
 "nbformat": 4,
 "nbformat_minor": 2
}

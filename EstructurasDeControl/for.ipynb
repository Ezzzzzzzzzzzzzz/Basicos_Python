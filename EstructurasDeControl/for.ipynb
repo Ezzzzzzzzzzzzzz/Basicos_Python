{
 "cells": [
  {
   "cell_type": "code",
   "execution_count": null,
   "metadata": {},
   "outputs": [],
   "source": [
    "# El usuario ingresa el límite de datos recopilados \n",
    "limit = int(input(\"Ingresa un número mayor a 3\")) \n",
    "# Muestra los números positivos en múltiplos de 3 \n",
    "print(\"los multiplos de tres\", limit, \"son:\") \n",
    "for i in range(3, limit + 1, 3): \n",
    "    print(i)"
   ]
  }
 ],
 "metadata": {
  "kernelspec": {
   "display_name": "Python 3.9.12 ('base')",
   "language": "python",
   "name": "python3"
  },
  "language_info": {
   "name": "python",
   "version": "3.9.12"
  },
  "orig_nbformat": 4,
  "vscode": {
   "interpreter": {
    "hash": "e05d13a84c48dca7d9f214d33c6771c68a1f185eadf799d15525cd606a1866fc"
   }
  }
 },
 "nbformat": 4,
 "nbformat_minor": 2
}

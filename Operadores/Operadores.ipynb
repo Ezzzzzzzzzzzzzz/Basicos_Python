{
 "cells": [
  {
   "cell_type": "code",
   "execution_count": null,
   "metadata": {},
   "outputs": [],
   "source": [
    "x = int(input(\"Ingresa un digito: \")) \n",
    "# Determina si el digito se encuentra en los primeros cinco números primos \n",
    "if x == 2 or x == 3 or x == 5 or x == 7 or x == 11: \n",
    "    print(\"El digito pertenece a los primeros cinco número primos\") \n",
    "else: \n",
    "    print(\"El digito no es parte de los primeros cinco números primos\") "
   ]
  }
 ],
 "metadata": {
  "kernelspec": {
   "display_name": "Python 3.9.12 ('base')",
   "language": "python",
   "name": "python3"
  },
  "language_info": {
   "name": "python",
   "version": "3.9.12"
  },
  "orig_nbformat": 4,
  "vscode": {
   "interpreter": {
    "hash": "e05d13a84c48dca7d9f214d33c6771c68a1f185eadf799d15525cd606a1866fc"
   }
  }
 },
 "nbformat": 4,
 "nbformat_minor": 2
}

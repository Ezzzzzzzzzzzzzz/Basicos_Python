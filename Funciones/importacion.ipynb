{
 "cells": [
  {
   "cell_type": "code",
   "execution_count": 8,
   "metadata": {},
   "outputs": [],
   "source": [
    "# Función de una sucesión geométrica \n",
    "def sumGeometric(a, r, n): \n",
    "   # Si el radio tiene un valor de uno \n",
    "   if r == 1: \n",
    "      return a * n \n",
    "   # Calcula la suma geométrica cuando el radio es diferente de uno \n",
    "   s = a * (1 - r ** n) / (1 - r) \n",
    "   #regresa el valor de s \n",
    "   return s"
   ]
  },
  {
   "cell_type": "markdown",
   "metadata": {},
   "source": [
    "Finalmente, para importar una función realizada por alguien más se puede utilizar la palabra reservada ***import***. Con las versiones diferentes de Python, también se puede utilizar el siguiente código para permitir que la nueva función sea importada: "
   ]
  },
  {
   "cell_type": "code",
   "execution_count": 9,
   "metadata": {},
   "outputs": [
    {
     "name": "stdout",
     "output_type": "stream",
     "text": [
      "Ejecutar funcion con valores 2,3,4\n",
      "80.0\n"
     ]
    }
   ],
   "source": [
    "if __name__ == \"__main__\":\n",
    "    print (\"Ejecutar funcion con valores 2,3,4\")\n",
    "    print (sumGeometric(2,3,4))\n",
    "    "
   ]
  }
 ],
 "metadata": {
  "kernelspec": {
   "display_name": "Python 3.9.12 ('base')",
   "language": "python",
   "name": "python3"
  },
  "language_info": {
   "codemirror_mode": {
    "name": "ipython",
    "version": 3
   },
   "file_extension": ".py",
   "mimetype": "text/x-python",
   "name": "python",
   "nbconvert_exporter": "python",
   "pygments_lexer": "ipython3",
   "version": "3.9.12"
  },
  "orig_nbformat": 4,
  "vscode": {
   "interpreter": {
    "hash": "e05d13a84c48dca7d9f214d33c6771c68a1f185eadf799d15525cd606a1866fc"
   }
  }
 },
 "nbformat": 4,
 "nbformat_minor": 2
}
